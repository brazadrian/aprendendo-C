{
  "nbformat": 4,
  "nbformat_minor": 0,
  "metadata": {
    "colab": {
      "provenance": [],
      "collapsed_sections": [],
      "authorship_tag": "ABX9TyPZKxgLRDGNpeUJ4p60iOws",
      "include_colab_link": true
    },
    "kernelspec": {
      "name": "python3",
      "display_name": "Python 3"
    },
    "language_info": {
      "name": "python"
    }
  },
  "cells": [
    {
      "cell_type": "markdown",
      "metadata": {
        "id": "view-in-github",
        "colab_type": "text"
      },
      "source": [
        "<a href=\"https://colab.research.google.com/github/brazadrian/aprendendo-C/blob/at_final-testes/AT4_Coding_II.ipynb\" target=\"_parent\"><img src=\"https://colab.research.google.com/assets/colab-badge.svg\" alt=\"Open In Colab\"/></a>"
      ]
    },
    {
      "cell_type": "markdown",
      "source": [
        " Faça um programa que leia um nome de usuário e a sua senha e não aceite a senha igual ao nome do usuário, mostrando uma mensagem de erro e voltando a pedir as informações."
      ],
      "metadata": {
        "id": "vTC1PMqEcD9a"
      }
    },
    {
      "cell_type": "code",
      "execution_count": 19,
      "metadata": {
        "colab": {
          "base_uri": "https://localhost:8080/"
        },
        "id": "hmF_hvNcb-n8",
        "outputId": "f6f8ae75-def8-4d0f-bac3-57cd970df0bb"
      },
      "outputs": [
        {
          "output_type": "stream",
          "name": "stdout",
          "text": [
            "Digite seu nome: Maiara\n",
            "Digite sua senha: teste\n",
            "\n",
            "Parabéns, Maiara! Login e senha registrados.\n"
          ]
        }
      ],
      "source": [
        "nome = input(\"Digite seu nome: \")\n",
        "senha = input(\"Digite sua senha: \")\n",
        "\n",
        "while senha == nome:\n",
        "  print(\"\\nSeu nome e senha estão iguais! Favor, digite-os diferentes.\")\n",
        "  nome = input(\"Digite seu nome: \")\n",
        "  senha = input(\"Digite sua senha: \")\n",
        "else:\n",
        "  print(f\"\\nParabéns, {nome}! Login e senha registrados.\")"
      ]
    }
  ]
}